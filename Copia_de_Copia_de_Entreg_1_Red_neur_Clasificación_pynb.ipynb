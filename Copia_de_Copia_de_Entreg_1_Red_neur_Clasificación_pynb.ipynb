{
  "nbformat": 4,
  "nbformat_minor": 0,
  "metadata": {
    "colab": {
      "name": "Copia de Copia de Entreg 1 Red neur - Clasificación pynb",
      "provenance": [],
      "collapsed_sections": [],
      "authorship_tag": "ABX9TyOuyc+yA0LDzr6r1E9tk4Vo",
      "include_colab_link": true
    },
    "kernelspec": {
      "name": "python3",
      "display_name": "Python 3"
    },
    "language_info": {
      "name": "python"
    },
    "accelerator": "TPU"
  },
  "cells": [
    {
      "cell_type": "markdown",
      "metadata": {
        "id": "view-in-github",
        "colab_type": "text"
      },
      "source": [
        "<a href=\"https://colab.research.google.com/github/ApusDT/-Red-neuronal-de-clasificaci-n-con-Keras---FashionMnist/blob/main/Copia_de_Copia_de_Entreg_1_Red_neur_Clasificaci%C3%B3n_pynb.ipynb\" target=\"_parent\"><img src=\"https://colab.research.google.com/assets/colab-badge.svg\" alt=\"Open In Colab\"/></a>"
      ]
    },
    {
      "cell_type": "code",
      "metadata": {
        "id": "4y2M0iU-vmUG"
      },
      "source": [
        "#Se importan librerías de entorno de ejecucuón primario\n",
        "import numpy as np\n",
        "np.random.seed(2)\n",
        "\n",
        "import matplotlib.pyplot as plt\n",
        "%matplotlib notebook\n"
      ],
      "execution_count": null,
      "outputs": []
    },
    {
      "cell_type": "code",
      "metadata": {
        "id": "vzGqNAeuxW7X"
      },
      "source": [
        "# Se importa TensorFlow y tf.keras\n",
        "import tensorflow as tf\n",
        "from tensorflow import keras"
      ],
      "execution_count": null,
      "outputs": []
    },
    {
      "cell_type": "code",
      "metadata": {
        "id": "pEsAmXFnwj-0"
      },
      "source": [
        "# Se importan módulos necesarios\n",
        "from keras.datasets import fashion_mnist\n",
        "from keras.utils import np_utils\n",
        "\n",
        "from keras.models import Sequential\n",
        "from keras.layers.core import Flatten, Dense\n",
        "from keras.optimizers import SGD"
      ],
      "execution_count": null,
      "outputs": []
    },
    {
      "cell_type": "markdown",
      "metadata": {
        "id": "qFX6bE270FO2"
      },
      "source": [
        "Se crean los arreglos para x_train, y_train y x_test, y_test."
      ]
    },
    {
      "cell_type": "code",
      "metadata": {
        "id": "VWX3kAecwmO3",
        "colab": {
          "base_uri": "https://localhost:8080/"
        },
        "outputId": "d1f4d41b-037f-4bfa-ff26-e060464746ef"
      },
      "source": [
        "(x_train, y_train), (x_test, y_test) = fashion_mnist.load_data()"
      ],
      "execution_count": null,
      "outputs": [
        {
          "output_type": "stream",
          "text": [
            "Downloading data from https://storage.googleapis.com/tensorflow/tf-keras-datasets/train-labels-idx1-ubyte.gz\n",
            "32768/29515 [=================================] - 0s 0us/step\n",
            "Downloading data from https://storage.googleapis.com/tensorflow/tf-keras-datasets/train-images-idx3-ubyte.gz\n",
            "26427392/26421880 [==============================] - 0s 0us/step\n",
            "Downloading data from https://storage.googleapis.com/tensorflow/tf-keras-datasets/t10k-labels-idx1-ubyte.gz\n",
            "8192/5148 [===============================================] - 0s 0us/step\n",
            "Downloading data from https://storage.googleapis.com/tensorflow/tf-keras-datasets/t10k-images-idx3-ubyte.gz\n",
            "4423680/4422102 [==============================] - 0s 0us/step\n"
          ],
          "name": "stdout"
        }
      ]
    },
    {
      "cell_type": "markdown",
      "metadata": {
        "id": "35B1pO3b0YRT"
      },
      "source": [
        "Las imagenes son 28x28 arreglos de NumPy, con valores de pixel que varian de 0 a 255.\n",
        "Los labels son un arreglo de enteros, que van del 0 al 9. \n",
        "Cada imagen es mapeada a una única etiqueta ya que las clases no están incluidas en el dataset, se almacenan acá para usarlos luego cuando se visualicen las imagenes:"
      ]
    },
    {
      "cell_type": "code",
      "metadata": {
        "id": "PuUoBXeIz9ZU"
      },
      "source": [
        "class_names = ['T-shirt/top', 'Trouser', 'Pullover', 'Dress', 'Coat','Sandal', 'Shirt', 'Sneaker', 'Bag', 'Ankle boot']"
      ],
      "execution_count": null,
      "outputs": []
    },
    {
      "cell_type": "markdown",
      "metadata": {
        "id": "mvXGtdLY0oZc"
      },
      "source": [
        "##Se explora el datset"
      ]
    },
    {
      "cell_type": "code",
      "metadata": {
        "colab": {
          "base_uri": "https://localhost:8080/"
        },
        "id": "QrUeMbpD0B5Z",
        "outputId": "7faffb31-6409-4e82-fe81-cb3bfb3b746a"
      },
      "source": [
        "x_train.shape"
      ],
      "execution_count": null,
      "outputs": [
        {
          "output_type": "execute_result",
          "data": {
            "text/plain": [
              "(60000, 28, 28)"
            ]
          },
          "metadata": {
            "tags": []
          },
          "execution_count": 6
        }
      ]
    },
    {
      "cell_type": "code",
      "metadata": {
        "colab": {
          "base_uri": "https://localhost:8080/"
        },
        "id": "D3XSbBQJ0y7J",
        "outputId": "555b9424-e5dd-476e-bca1-87e8c7df82d8"
      },
      "source": [
        "len(y_train) \n",
        "#Tenemos 60.000 etiquetas en el train set"
      ],
      "execution_count": null,
      "outputs": [
        {
          "output_type": "execute_result",
          "data": {
            "text/plain": [
              "60000"
            ]
          },
          "metadata": {
            "tags": []
          },
          "execution_count": 7
        }
      ]
    },
    {
      "cell_type": "code",
      "metadata": {
        "colab": {
          "base_uri": "https://localhost:8080/"
        },
        "id": "dH2lc3_g1AN7",
        "outputId": "9ad2283f-a4e2-4265-8c40-666188cc9d7e"
      },
      "source": [
        "#Se corrobora que las etiquetas son enteros del 0 al 9\n",
        "y_train"
      ],
      "execution_count": null,
      "outputs": [
        {
          "output_type": "execute_result",
          "data": {
            "text/plain": [
              "array([9, 0, 0, ..., 3, 0, 5], dtype=uint8)"
            ]
          },
          "metadata": {
            "tags": []
          },
          "execution_count": 8
        }
      ]
    },
    {
      "cell_type": "code",
      "metadata": {
        "colab": {
          "base_uri": "https://localhost:8080/"
        },
        "id": "zwL610S-1OEQ",
        "outputId": "9a5262eb-19c1-4dcb-9831-91f14f658f2e"
      },
      "source": [
        "#Hay 10,000 imagenes en el set de pruebas. Otra vez, cada imagen es representada como pixeles de 28x28:\n",
        "x_test.shape"
      ],
      "execution_count": null,
      "outputs": [
        {
          "output_type": "execute_result",
          "data": {
            "text/plain": [
              "(10000, 28, 28)"
            ]
          },
          "metadata": {
            "tags": []
          },
          "execution_count": 9
        }
      ]
    },
    {
      "cell_type": "code",
      "metadata": {
        "colab": {
          "base_uri": "https://localhost:8080/"
        },
        "id": "J2dOZmYQ1dGz",
        "outputId": "662028b5-8b34-4a52-aaad-55a3578ae4b4"
      },
      "source": [
        "# El test set contiene 10,000 etiquetas de imagen\n",
        "len(y_test)"
      ],
      "execution_count": null,
      "outputs": [
        {
          "output_type": "execute_result",
          "data": {
            "text/plain": [
              "10000"
            ]
          },
          "metadata": {
            "tags": []
          },
          "execution_count": 10
        }
      ]
    },
    {
      "cell_type": "markdown",
      "metadata": {
        "id": "477BTLRg1n9A"
      },
      "source": [
        "Preprocesamiento de datos"
      ]
    },
    {
      "cell_type": "code",
      "metadata": {
        "colab": {
          "base_uri": "https://localhost:8080/",
          "height": 264
        },
        "id": "43AjZPI11szD",
        "outputId": "809bda57-6b8f-4c48-bb5b-f7733b4d49c5"
      },
      "source": [
        "#Observamos que la primera imagen en el set de entrenamiento tiene pixeles con valores entre 0 y 255\n",
        "plt.figure()\n",
        "plt.imshow(x_train[0])\n",
        "plt.colorbar()\n",
        "plt.grid(False)\n",
        "plt.show()"
      ],
      "execution_count": null,
      "outputs": [
        {
          "output_type": "display_data",
          "data": {
            "image/png": "[encoded data removed]",
            "text/plain": [
              "<Figure size 432x288 with 2 Axes>"
            ]
          },
          "metadata": {
            "tags": [],
            "needs_background": "light"
          }
        }
      ]
    },
    {
      "cell_type": "markdown",
      "metadata": {
        "id": "AxS4OFZb2HdD"
      },
      "source": [
        "Escale estos valores en un rango de 0 a 1 antes de alimentarlos al modelo de la red neuronal. Para hacero, divida los valores por 255. Es importante que el training set y el testing set se pre-procesen de la misma forma:"
      ]
    },
    {
      "cell_type": "code",
      "metadata": {
        "id": "oyiwt2KG2JeU"
      },
      "source": [
        "x_train = x_train / 255.0\n",
        "\n",
        "x_test = x_test / 255.0"
      ],
      "execution_count": null,
      "outputs": []
    },
    {
      "cell_type": "markdown",
      "metadata": {
        "id": "46t1w4Hd2Z02"
      },
      "source": [
        "Para verificar que el set de datos esta en el formato adecuado y que estan listos para construir y entrenar la red, vamos a desplegar las primeras 25 imagenes de el training set y despleguemos el nombre de cada clase debajo de cada imagen."
      ]
    },
    {
      "cell_type": "code",
      "metadata": {
        "colab": {
          "base_uri": "https://localhost:8080/",
          "height": 475
        },
        "id": "IMgyGRcq2D0Q",
        "outputId": "d8136f6a-3f23-41e4-fa3b-6943de9c0720"
      },
      "source": [
        "plt.figure(figsize=(10,10))\n",
        "for i in range(20):\n",
        "    plt.subplot(5,5,i+1)\n",
        "    plt.xticks([])\n",
        "    plt.yticks([])\n",
        "    plt.grid(False)\n",
        "    plt.imshow(x_train[i], cmap=plt.cm.binary)\n",
        "    plt.xlabel(class_names[y_train[i]])\n",
        "plt.show()"
      ],
      "execution_count": null,
      "outputs": [
        {
          "output_type": "display_data",
          "data": {
            "image/png": "[encoded data removed]",
            "text/plain": [
              "<Figure size 720x720 with 20 Axes>"
            ]
          },
          "metadata": {
            "tags": []
          }
        }
      ]
    },
    {
      "cell_type": "markdown",
      "metadata": {
        "id": "aAMoFhfj2ruy"
      },
      "source": [
        "##Construir el Modelo\n",
        "Construir la red neuronal requiere configurar las capas del modelo y luego compilar el modelo.\n",
        "\n"
      ]
    },
    {
      "cell_type": "markdown",
      "metadata": {
        "id": "fzlFaAPb3Yny"
      },
      "source": [
        "**Transformación One Hot**\n",
        "\n",
        "Los datos de salida vienen codificados por etiquetas de 0 a 9, la siguiente función sirve para cambiar la codificación a one-hot, de manera que los datos de salida quedan con el formato [muestras,10]."
      ]
    },
    {
      "cell_type": "code",
      "metadata": {
        "id": "Idd4zwhe2yQb"
      },
      "source": [
        "n_clases = 10\n",
        "y_train_onehot = keras.utils.to_categorical(y_train, n_clases)\n",
        "y_test_onehot = keras.utils.to_categorical(y_test, n_clases)"
      ],
      "execution_count": null,
      "outputs": []
    },
    {
      "cell_type": "markdown",
      "metadata": {
        "id": "aNP4BbhX3mSC"
      },
      "source": [
        "Configurar las Capas\n",
        "Los bloques de construccion básicos de una red neuronal son las capas o layers. Las capas extraen representaciones de el set de datos que se les alimentan. Estas representaciones son las que se considerarán para el problema que estamos solucionando.\n",
        "\n",
        "La mayoria del aprendizaje profundo consiste de unir capas sencillas. La mayoria de las capas como tf.keras.layers.Dense, tienen parametros que son aprendidos durante el entrenamiento."
      ]
    },
    {
      "cell_type": "code",
      "metadata": {
        "id": "Pp2Wcf9k3qhM"
      },
      "source": [
        "model1 = keras.models.Sequential() \n",
        "model1.add(keras.layers.Flatten(input_shape=(28, 28))) \n",
        "model1.add(keras.layers.Dense(64, activation='relu')) \n",
        "model1.add(keras.layers.Dense(10, activation='softmax'))"
      ],
      "execution_count": null,
      "outputs": []
    },
    {
      "cell_type": "code",
      "metadata": {
        "id": "nR0sLj6g38dy"
      },
      "source": [
        "sgd = keras.optimizers.SGD(lr=0.1)\n",
        "model1.compile(optimizer=sgd,\n",
        "loss='categorical_crossentropy',\n",
        "metrics=['accuracy'])"
      ],
      "execution_count": null,
      "outputs": []
    },
    {
      "cell_type": "code",
      "metadata": {
        "colab": {
          "base_uri": "https://localhost:8080/"
        },
        "id": "0fewUa0z4E_p",
        "outputId": "331444a2-a0de-4ef1-ba85-c5e426812c69"
      },
      "source": [
        "print(model1.summary())"
      ],
      "execution_count": null,
      "outputs": [
        {
          "output_type": "stream",
          "text": [
            "Model: \"sequential\"\n",
            "_________________________________________________________________\n",
            "Layer (type)                 Output Shape              Param #   \n",
            "=================================================================\n",
            "flatten (Flatten)            (None, 784)               0         \n",
            "_________________________________________________________________\n",
            "dense (Dense)                (None, 64)                50240     \n",
            "_________________________________________________________________\n",
            "dense_1 (Dense)              (None, 10)                650       \n",
            "=================================================================\n",
            "Total params: 50,890\n",
            "Trainable params: 50,890\n",
            "Non-trainable params: 0\n",
            "_________________________________________________________________\n",
            "None\n"
          ],
          "name": "stdout"
        }
      ]
    },
    {
      "cell_type": "code",
      "metadata": {
        "colab": {
          "base_uri": "https://localhost:8080/"
        },
        "id": "TvwEBVON4cau",
        "outputId": "2498d061-d61f-4cae-9ce8-3cf7a21e3341"
      },
      "source": [
        "history1= model1.fit(x_train, y_train_onehot,\n",
        "epochs=8, validation_data=(x_test, y_test_onehot))"
      ],
      "execution_count": null,
      "outputs": [
        {
          "output_type": "stream",
          "text": [
            "Epoch 1/8\n",
            "1875/1875 [==============================] - 4s 2ms/step - loss: 0.6916 - accuracy: 0.7591 - val_loss: 0.4385 - val_accuracy: 0.8419\n",
            "Epoch 2/8\n",
            "1875/1875 [==============================] - 3s 2ms/step - loss: 0.4116 - accuracy: 0.8508 - val_loss: 0.4327 - val_accuracy: 0.8417\n",
            "Epoch 3/8\n",
            "1875/1875 [==============================] - 3s 2ms/step - loss: 0.3756 - accuracy: 0.8619 - val_loss: 0.4029 - val_accuracy: 0.8578\n",
            "Epoch 4/8\n",
            "1875/1875 [==============================] - 3s 2ms/step - loss: 0.3542 - accuracy: 0.8717 - val_loss: 0.3946 - val_accuracy: 0.8534\n",
            "Epoch 5/8\n",
            "1875/1875 [==============================] - 3s 2ms/step - loss: 0.3331 - accuracy: 0.8779 - val_loss: 0.3656 - val_accuracy: 0.8710\n",
            "Epoch 6/8\n",
            "1875/1875 [==============================] - 3s 2ms/step - loss: 0.3153 - accuracy: 0.8833 - val_loss: 0.3773 - val_accuracy: 0.8651\n",
            "Epoch 7/8\n",
            "1875/1875 [==============================] - 3s 2ms/step - loss: 0.3036 - accuracy: 0.8894 - val_loss: 0.3570 - val_accuracy: 0.8740\n",
            "Epoch 8/8\n",
            "1875/1875 [==============================] - 3s 2ms/step - loss: 0.2960 - accuracy: 0.8922 - val_loss: 0.3457 - val_accuracy: 0.8774\n"
          ],
          "name": "stdout"
        }
      ]
    },
    {
      "cell_type": "code",
      "metadata": {
        "colab": {
          "base_uri": "https://localhost:8080/"
        },
        "id": "r9hJ5aMYQXHf",
        "outputId": "dbecabb6-f739-4041-e62c-4896baa7aabf"
      },
      "source": [
        "test_loss, test_acc = model1.evaluate(x_test, y_test_onehot, verbose=2)\n",
        "\n",
        "print('\\nTest accuracy:', test_acc)"
      ],
      "execution_count": null,
      "outputs": [
        {
          "output_type": "stream",
          "text": [
            "313/313 - 0s - loss: 0.3457 - accuracy: 0.8774\n",
            "\n",
            "Test accuracy: 0.8773999810218811\n"
          ],
          "name": "stdout"
        }
      ]
    },
    {
      "cell_type": "markdown",
      "metadata": {
        "id": "kt0os5HR4sei"
      },
      "source": [
        "Evaluar Exactitud\n",
        "Siguente, compare como el rendimiento del modelo sobre el set de datos:"
      ]
    },
    {
      "cell_type": "code",
      "metadata": {
        "colab": {
          "base_uri": "https://localhost:8080/",
          "height": 462
        },
        "id": "rL3hNgMYnsdQ",
        "outputId": "aebf82df-d632-41c9-8214-34d39dc1de04"
      },
      "source": [
        "acc = history1.history['accuracy']\n",
        "val_acc = history1.history['val_accuracy']\n",
        "loss = history1.history['loss']\n",
        "val_loss = history1.history['val_loss']\n",
        "epochs = range(1, len(acc) + 1)\n",
        "plt.figure(num=None, figsize=(8, 6), dpi=80, facecolor= 'w', edgecolor='k')\n",
        "plt.plot(epochs, acc, 'red', label='Training acc')\n",
        "plt.plot(epochs, val_acc, 'b', label='Validation acc') \n",
        "plt.title('Training and validation accuracy')\n",
        "plt.xlabel('Epochs', fontdict=None, labelpad=None)\n",
        "plt.ylabel('Acc value', fontdict=None, labelpad=None)\n",
        "plt.legend()"
      ],
      "execution_count": null,
      "outputs": [
        {
          "output_type": "execute_result",
          "data": {
            "text/plain": [
              "<matplotlib.legend.Legend at 0x7fb0b627d3d0>"
            ]
          },
          "metadata": {
            "tags": []
          },
          "execution_count": 20
        },
        {
          "output_type": "display_data",
          "data": {
            "image/png": "[encoded data removed]",
            "text/plain": [
              "<Figure size 640x480 with 1 Axes>"
            ]
          },
          "metadata": {
            "tags": []
          }
        }
      ]
    },
    {
      "cell_type": "markdown",
      "metadata": {
        "id": "A4XxIEehrvXf"
      },
      "source": [
        "##Con aproximadamente 10.000 parámetros"
      ]
    },
    {
      "cell_type": "code",
      "metadata": {
        "id": "tjjJp2K-ruw9"
      },
      "source": [
        "model2 = keras.models.Sequential() \n",
        "model2.add(keras.layers.Flatten(input_shape=(28, 28))) #Toma la matriz de entrada con formato [28,28] y la aplana a formato [784].\n",
        "model2.add(keras.layers.Dense(16, activation='relu')) #La primera capa contiene 16 neuronas con función de activación ReLu.\n",
        "model2.add(keras.layers.Dense(10, activation='softmax')) #La última capa contiene 10 neuronas de salida, con función de activación softmax,"
      ],
      "execution_count": null,
      "outputs": []
    },
    {
      "cell_type": "code",
      "metadata": {
        "id": "TLKTd8SMrzWx"
      },
      "source": [
        "sgd = keras.optimizers.SGD(lr=0.1)\n",
        "\n",
        "model2.compile(optimizer=sgd, loss='categorical_crossentropy', metrics=['accuracy'])"
      ],
      "execution_count": null,
      "outputs": []
    },
    {
      "cell_type": "code",
      "metadata": {
        "colab": {
          "base_uri": "https://localhost:8080/"
        },
        "id": "MzPxCwcmr2yM",
        "outputId": "c490d902-777e-40d0-ea8f-3d2dcb42c254"
      },
      "source": [
        "print(model2.summary())\n"
      ],
      "execution_count": null,
      "outputs": [
        {
          "output_type": "stream",
          "text": [
            "Model: \"sequential_1\"\n",
            "_________________________________________________________________\n",
            "Layer (type)                 Output Shape              Param #   \n",
            "=================================================================\n",
            "flatten_1 (Flatten)          (None, 784)               0         \n",
            "_________________________________________________________________\n",
            "dense_2 (Dense)              (None, 16)                12560     \n",
            "_________________________________________________________________\n",
            "dense_3 (Dense)              (None, 10)                170       \n",
            "=================================================================\n",
            "Total params: 12,730\n",
            "Trainable params: 12,730\n",
            "Non-trainable params: 0\n",
            "_________________________________________________________________\n",
            "None\n"
          ],
          "name": "stdout"
        }
      ]
    },
    {
      "cell_type": "code",
      "metadata": {
        "colab": {
          "base_uri": "https://localhost:8080/"
        },
        "id": "Wb5Upaiyr5sk",
        "outputId": "f5d9a5a8-13df-4431-85df-11e1171012ba"
      },
      "source": [
        "history2= model2.fit(x_train, y_train_onehot, epochs=8, validation_data=(x_test, y_test_onehot))"
      ],
      "execution_count": null,
      "outputs": [
        {
          "output_type": "stream",
          "text": [
            "Epoch 1/8\n",
            "1875/1875 [==============================] - 3s 2ms/step - loss: 0.8046 - accuracy: 0.7050 - val_loss: 0.5231 - val_accuracy: 0.8100\n",
            "Epoch 2/8\n",
            "1875/1875 [==============================] - 3s 1ms/step - loss: 0.4789 - accuracy: 0.8279 - val_loss: 0.4581 - val_accuracy: 0.8364\n",
            "Epoch 3/8\n",
            "1875/1875 [==============================] - 3s 1ms/step - loss: 0.4393 - accuracy: 0.8400 - val_loss: 0.4447 - val_accuracy: 0.8390\n",
            "Epoch 4/8\n",
            "1875/1875 [==============================] - 3s 1ms/step - loss: 0.4131 - accuracy: 0.8496 - val_loss: 0.4397 - val_accuracy: 0.8388\n",
            "Epoch 5/8\n",
            "1875/1875 [==============================] - 3s 1ms/step - loss: 0.3971 - accuracy: 0.8555 - val_loss: 0.4405 - val_accuracy: 0.8355\n",
            "Epoch 6/8\n",
            "1875/1875 [==============================] - 3s 1ms/step - loss: 0.3854 - accuracy: 0.8594 - val_loss: 0.4336 - val_accuracy: 0.8418\n",
            "Epoch 7/8\n",
            "1875/1875 [==============================] - 3s 1ms/step - loss: 0.3716 - accuracy: 0.8651 - val_loss: 0.4281 - val_accuracy: 0.8446\n",
            "Epoch 8/8\n",
            "1875/1875 [==============================] - 3s 1ms/step - loss: 0.3647 - accuracy: 0.8663 - val_loss: 0.4361 - val_accuracy: 0.8459\n"
          ],
          "name": "stdout"
        }
      ]
    },
    {
      "cell_type": "markdown",
      "metadata": {
        "id": "ITHfLxJbr-mf"
      },
      "source": [
        "Evaluar exactitud siguiente, compare como el rendimiento del modelo sobre el set de datos:"
      ]
    },
    {
      "cell_type": "code",
      "metadata": {
        "colab": {
          "base_uri": "https://localhost:8080/"
        },
        "id": "biwWPFZJr_Hb",
        "outputId": "23152598-62be-44d3-e461-93e0e2d862e5"
      },
      "source": [
        "test_loss, test_acc = model2.evaluate(x_test, y_test_onehot, verbose=2)\n",
        "\n",
        "print('\\nTest accuracy:', test_acc)\n"
      ],
      "execution_count": null,
      "outputs": [
        {
          "output_type": "stream",
          "text": [
            "313/313 - 0s - loss: 0.4361 - accuracy: 0.8459\n",
            "\n",
            "Test accuracy: 0.8458999991416931\n"
          ],
          "name": "stdout"
        }
      ]
    },
    {
      "cell_type": "markdown",
      "metadata": {
        "id": "kiRxXfo4xGmp"
      },
      "source": [
        ""
      ]
    },
    {
      "cell_type": "code",
      "metadata": {
        "colab": {
          "base_uri": "https://localhost:8080/",
          "height": 462
        },
        "id": "5eirc-5xsstX",
        "outputId": "427917a5-af39-457a-c91e-a5518ab2e80f"
      },
      "source": [
        "acc = history2.history['accuracy']\n",
        "val_acc = history2.history['val_accuracy']\n",
        "loss = history2.history['loss']\n",
        "val_loss = history2.history['val_loss']\n",
        "epochs = range(1, len(acc) + 1)\n",
        "plt.figure(num=None, figsize=(8, 6), dpi=80, facecolor= 'w', edgecolor='k')\n",
        "plt.plot(epochs, acc, 'red', label='Training acc')\n",
        "plt.plot(epochs, val_acc, 'b', label='Validation acc') \n",
        "plt.title('Training and validation accuracy')\n",
        "plt.xlabel('Epochs', fontdict=None, labelpad=None)\n",
        "plt.ylabel('Acc value', fontdict=None, labelpad=None)\n",
        "plt.legend()"
      ],
      "execution_count": null,
      "outputs": [
        {
          "output_type": "execute_result",
          "data": {
            "text/plain": [
              "<matplotlib.legend.Legend at 0x7fb0b1fe6a50>"
            ]
          },
          "metadata": {
            "tags": []
          },
          "execution_count": 26
        },
        {
          "output_type": "display_data",
          "data": {
            "image/png": "[encoded data removed]",
            "text/plain": [
              "<Figure size 640x480 with 1 Axes>"
            ]
          },
          "metadata": {
            "tags": []
          }
        }
      ]
    },
    {
      "cell_type": "markdown",
      "metadata": {
        "id": "iy3-7rZesBec"
      },
      "source": [
        "##Con approx 1.000.000 parámetros##"
      ]
    },
    {
      "cell_type": "code",
      "metadata": {
        "id": "-IbLhMwosDbB"
      },
      "source": [
        "model3 = keras.models.Sequential() \n",
        "\n",
        "model3.add(keras.layers.Flatten(input_shape=(28, 28))) #Toma la matriz de entrada con formato [28,28] y la aplana a formato [784].\n",
        "\n",
        "model3.add(keras.layers.Dense(256, activation='relu')) #La primera capa contiene 256 neuronas con función de activación ReLu.\n",
        "model3.add(keras.layers.Dense(1028, activation='relu')) #La segunda capa contiene 1028 neuronas con función de activación ReLu.\n",
        "model3.add(keras.layers.Dense(512, activation='relu')) #La tercera capa contiene 512 neuronas con función de activación ReLu.\n",
        "model3.add(keras.layers.Dense(64, activation='relu')) #La cuarta capa contiene 64 neuronas con función de activación ReLu.\n",
        "\n",
        "model3.add(keras.layers.Dense(10, activation='softmax')) #La última capa contiene 10 neuronas de salida, con función de activación softmax,"
      ],
      "execution_count": null,
      "outputs": []
    },
    {
      "cell_type": "code",
      "metadata": {
        "id": "G5YCtfL1sKXP"
      },
      "source": [
        "sgd = keras.optimizers.SGD(lr=0.1)\n",
        "model3.compile(optimizer=sgd,\n",
        "loss='categorical_crossentropy',\n",
        "metrics=['accuracy'])"
      ],
      "execution_count": null,
      "outputs": []
    },
    {
      "cell_type": "code",
      "metadata": {
        "colab": {
          "base_uri": "https://localhost:8080/"
        },
        "id": "eq528a80sN06",
        "outputId": "55919519-e4cc-4f16-96aa-ec447c3b56d3"
      },
      "source": [
        "print(model3.summary())\n"
      ],
      "execution_count": null,
      "outputs": [
        {
          "output_type": "stream",
          "text": [
            "Model: \"sequential_2\"\n",
            "_________________________________________________________________\n",
            "Layer (type)                 Output Shape              Param #   \n",
            "=================================================================\n",
            "flatten_2 (Flatten)          (None, 784)               0         \n",
            "_________________________________________________________________\n",
            "dense_4 (Dense)              (None, 256)               200960    \n",
            "_________________________________________________________________\n",
            "dense_5 (Dense)              (None, 1028)              264196    \n",
            "_________________________________________________________________\n",
            "dense_6 (Dense)              (None, 512)               526848    \n",
            "_________________________________________________________________\n",
            "dense_7 (Dense)              (None, 64)                32832     \n",
            "_________________________________________________________________\n",
            "dense_8 (Dense)              (None, 10)                650       \n",
            "=================================================================\n",
            "Total params: 1,025,486\n",
            "Trainable params: 1,025,486\n",
            "Non-trainable params: 0\n",
            "_________________________________________________________________\n",
            "None\n"
          ],
          "name": "stdout"
        }
      ]
    },
    {
      "cell_type": "code",
      "metadata": {
        "colab": {
          "base_uri": "https://localhost:8080/"
        },
        "id": "2mOk4r3DsQza",
        "outputId": "96316bd3-fcbe-4e47-f5b3-bdf7cd878b1f"
      },
      "source": [
        "history3=model3.fit(x_train, y_train_onehot,\n",
        "epochs=8,\n",
        "validation_data=(x_test, y_test_onehot))"
      ],
      "execution_count": null,
      "outputs": [
        {
          "output_type": "stream",
          "text": [
            "Epoch 1/8\n",
            "1875/1875 [==============================] - 22s 12ms/step - loss: 0.7391 - accuracy: 0.7311 - val_loss: 0.4454 - val_accuracy: 0.8442\n",
            "Epoch 2/8\n",
            "1875/1875 [==============================] - 22s 11ms/step - loss: 0.3871 - accuracy: 0.8577 - val_loss: 0.4275 - val_accuracy: 0.8374\n",
            "Epoch 3/8\n",
            "1875/1875 [==============================] - 22s 11ms/step - loss: 0.3404 - accuracy: 0.8709 - val_loss: 0.3696 - val_accuracy: 0.8652\n",
            "Epoch 4/8\n",
            "1875/1875 [==============================] - 22s 12ms/step - loss: 0.3144 - accuracy: 0.8806 - val_loss: 0.3770 - val_accuracy: 0.8625\n",
            "Epoch 5/8\n",
            "1875/1875 [==============================] - 22s 12ms/step - loss: 0.2892 - accuracy: 0.8905 - val_loss: 0.3374 - val_accuracy: 0.8760\n",
            "Epoch 6/8\n",
            "1875/1875 [==============================] - 22s 12ms/step - loss: 0.2754 - accuracy: 0.8954 - val_loss: 0.3505 - val_accuracy: 0.8711\n",
            "Epoch 7/8\n",
            "1875/1875 [==============================] - 22s 12ms/step - loss: 0.2614 - accuracy: 0.9014 - val_loss: 0.3450 - val_accuracy: 0.8763\n",
            "Epoch 8/8\n",
            "1875/1875 [==============================] - 22s 12ms/step - loss: 0.2472 - accuracy: 0.9056 - val_loss: 0.3161 - val_accuracy: 0.8832\n"
          ],
          "name": "stdout"
        }
      ]
    },
    {
      "cell_type": "code",
      "metadata": {
        "id": "4P7C8TAisTOR",
        "colab": {
          "base_uri": "https://localhost:8080/"
        },
        "outputId": "9d9151de-2973-4431-c351-55d793e71d6a"
      },
      "source": [
        "test_loss, test_acc = model3.evaluate(x_test, y_test_onehot, verbose=2)\n",
        "\n",
        "print('\\nTest accuracy:', test_acc)"
      ],
      "execution_count": null,
      "outputs": [
        {
          "output_type": "stream",
          "text": [
            "313/313 - 1s - loss: 0.3161 - accuracy: 0.8832\n",
            "\n",
            "Test accuracy: 0.8831999897956848\n"
          ],
          "name": "stdout"
        }
      ]
    },
    {
      "cell_type": "code",
      "metadata": {
        "id": "mQ3bz1y3suLe",
        "colab": {
          "base_uri": "https://localhost:8080/",
          "height": 462
        },
        "outputId": "f83e8a3a-6b5c-474e-de9a-9d28cc31862b"
      },
      "source": [
        "acc = history3.history['accuracy']\n",
        "val_acc = history3.history['val_accuracy']\n",
        "loss = history3.history['loss']\n",
        "val_loss = history3.history['val_loss']\n",
        "epochs = range(1, len(acc) + 1)\n",
        "plt.figure(num=None, figsize=(8, 6), dpi=80, facecolor= 'w', edgecolor='k')\n",
        "plt.plot(epochs, acc, 'red', label='Training acc')\n",
        "plt.plot(epochs, val_acc, 'b', label='Validation acc') \n",
        "plt.title('Training and validation accuracy')\n",
        "plt.xlabel('Epochs', fontdict=None, labelpad=None)\n",
        "plt.ylabel('Acc value', fontdict=None, labelpad=None)\n",
        "plt.legend()"
      ],
      "execution_count": null,
      "outputs": [
        {
          "output_type": "execute_result",
          "data": {
            "text/plain": [
              "<matplotlib.legend.Legend at 0x7fb0b66eed50>"
            ]
          },
          "metadata": {
            "tags": []
          },
          "execution_count": 32
        },
        {
          "output_type": "display_data",
          "data": {
            "image/png": "[encoded data removed]",
            "text/plain": [
              "<Figure size 640x480 with 1 Axes>"
            ]
          },
          "metadata": {
            "tags": []
          }
        }
      ]
    },
    {
      "cell_type": "markdown",
      "metadata": {
        "id": "DY6h0Q9C7IUP"
      },
      "source": [
        "##Sobre la red más grande, añadir una o varias capas de dropout (o bien, opcionalmente, otro método de regularización) y repetir el entrenamiento con los parámetros del apartado 2. A partir de los resultados, explicar las diferencias que aparecen durante el entrenamiento."
      ]
    },
    {
      "cell_type": "code",
      "metadata": {
        "id": "YHunmLNY75wD"
      },
      "source": [
        "from tensorflow.keras.layers import Dropout"
      ],
      "execution_count": null,
      "outputs": []
    },
    {
      "cell_type": "code",
      "metadata": {
        "id": "COIM8sA87LMv"
      },
      "source": [
        "model4 = keras.models.Sequential() \n",
        "\n",
        "model4.add(keras.layers.Flatten(input_shape=(28, 28))) #Esta capa toma la matriz de entrada con formato [28,28] y la aplana a formato [784].\n",
        "\n",
        "model4.add(keras.layers.Dense(256, activation='relu')) #Esta capa contiene 256 neuronas con función de activación ReLu. #La primera capa contiene 256 neuronas con función de activación ReLu.\n",
        "\n",
        "model4.add(Dropout(0.4))   #Esta capa contiene una capa dropout, para \"desaprender\" una fracción de lo aprendido\n",
        "\n",
        "model4.add(keras.layers.Dense(1028, activation='relu')) #Esta capa contiene 1028 neuronas con función de activación ReLu.\n",
        "\n",
        "model4.add(keras.layers.Dense(512, activation='relu')) #Esta capa contiene 512 neuronas con función de activación ReLu.\n",
        "\n",
        "model4.add(Dropout(0.4))    #Esta capa contiene una capa dropout, para \"desaprender\" una fracción de lo aprendido\n",
        "\n",
        "model4.add(keras.layers.Dense(64, activation='relu')) #Esta capa contiene 64 neuronas con función de activación ReLu.\n",
        "\n",
        "model4.add(keras.layers.Dense(10, activation='softmax')) #Esta capa contiene 10 neuronas de salida, con función de activación softmax,"
      ],
      "execution_count": null,
      "outputs": []
    },
    {
      "cell_type": "code",
      "metadata": {
        "id": "q3yiYDv_7QKv"
      },
      "source": [
        "sgd = keras.optimizers.SGD(lr=0.1)\n",
        "model4.compile(optimizer=sgd, loss='categorical_crossentropy', metrics=['accuracy'])"
      ],
      "execution_count": null,
      "outputs": []
    },
    {
      "cell_type": "code",
      "metadata": {
        "colab": {
          "base_uri": "https://localhost:8080/"
        },
        "id": "A6R7awcD7Vwh",
        "outputId": "857058a8-0a77-416c-e583-827ddfe22407"
      },
      "source": [
        "print(model4.summary())"
      ],
      "execution_count": null,
      "outputs": [
        {
          "output_type": "stream",
          "text": [
            "Model: \"sequential\"\n",
            "_________________________________________________________________\n",
            "Layer (type)                 Output Shape              Param #   \n",
            "=================================================================\n",
            "flatten (Flatten)            (None, 784)               0         \n",
            "_________________________________________________________________\n",
            "dense (Dense)                (None, 256)               200960    \n",
            "_________________________________________________________________\n",
            "dropout (Dropout)            (None, 256)               0         \n",
            "_________________________________________________________________\n",
            "dense_1 (Dense)              (None, 1028)              264196    \n",
            "_________________________________________________________________\n",
            "dense_2 (Dense)              (None, 512)               526848    \n",
            "_________________________________________________________________\n",
            "dropout_1 (Dropout)          (None, 512)               0         \n",
            "_________________________________________________________________\n",
            "dense_3 (Dense)              (None, 64)                32832     \n",
            "_________________________________________________________________\n",
            "dense_4 (Dense)              (None, 10)                650       \n",
            "=================================================================\n",
            "Total params: 1,025,486\n",
            "Trainable params: 1,025,486\n",
            "Non-trainable params: 0\n",
            "_________________________________________________________________\n",
            "None\n"
          ],
          "name": "stdout"
        }
      ]
    },
    {
      "cell_type": "code",
      "metadata": {
        "colab": {
          "base_uri": "https://localhost:8080/"
        },
        "id": "edudsxR_7WV9",
        "outputId": "b9491663-6d09-4d5e-9656-8125d1bde2cb"
      },
      "source": [
        "history4=model4.fit(x_train, y_train_onehot,\n",
        "epochs=8,\n",
        "validation_data=(x_test, y_test_onehot))"
      ],
      "execution_count": null,
      "outputs": [
        {
          "output_type": "stream",
          "text": [
            "Epoch 1/8\n",
            "1875/1875 [==============================] - 22s 12ms/step - loss: 0.8379 - accuracy: 0.6852 - val_loss: 0.4544 - val_accuracy: 0.8356\n",
            "Epoch 2/8\n",
            "1875/1875 [==============================] - 21s 11ms/step - loss: 0.4818 - accuracy: 0.8261 - val_loss: 0.4642 - val_accuracy: 0.8344\n",
            "Epoch 3/8\n",
            "1875/1875 [==============================] - 21s 11ms/step - loss: 0.4364 - accuracy: 0.8391 - val_loss: 0.4073 - val_accuracy: 0.8549\n",
            "Epoch 4/8\n",
            "1875/1875 [==============================] - 22s 12ms/step - loss: 0.4050 - accuracy: 0.8517 - val_loss: 0.3862 - val_accuracy: 0.8594\n",
            "Epoch 5/8\n",
            "1875/1875 [==============================] - 21s 11ms/step - loss: 0.3825 - accuracy: 0.8601 - val_loss: 0.3893 - val_accuracy: 0.8470\n",
            "Epoch 6/8\n",
            "1875/1875 [==============================] - 21s 11ms/step - loss: 0.3659 - accuracy: 0.8674 - val_loss: 0.3798 - val_accuracy: 0.8614\n",
            "Epoch 7/8\n",
            "1875/1875 [==============================] - 21s 11ms/step - loss: 0.3575 - accuracy: 0.8696 - val_loss: 0.3778 - val_accuracy: 0.8579\n",
            "Epoch 8/8\n",
            "1875/1875 [==============================] - 21s 11ms/step - loss: 0.3462 - accuracy: 0.8726 - val_loss: 0.3433 - val_accuracy: 0.8746\n"
          ],
          "name": "stdout"
        }
      ]
    },
    {
      "cell_type": "code",
      "metadata": {
        "colab": {
          "base_uri": "https://localhost:8080/"
        },
        "id": "1Pvek9rf7ZG_",
        "outputId": "cc902283-90df-4f27-84de-5b76e7eb796b"
      },
      "source": [
        "test_loss, test_acc = model4.evaluate(x_test, y_test_onehot, verbose=2)\n",
        "\n",
        "print('\\nTest accuracy:', test_acc)"
      ],
      "execution_count": null,
      "outputs": [
        {
          "output_type": "stream",
          "text": [
            "313/313 - 1s - loss: 0.3433 - accuracy: 0.8746\n",
            "\n",
            "Test accuracy: 0.8745999932289124\n"
          ],
          "name": "stdout"
        }
      ]
    },
    {
      "cell_type": "code",
      "metadata": {
        "colab": {
          "base_uri": "https://localhost:8080/",
          "height": 444
        },
        "id": "aPU8wIHM7dV4",
        "outputId": "d84dfac3-78fa-406c-ac3e-0afac91b3ab6"
      },
      "source": [
        "acc = history4.history['accuracy']\n",
        "val_acc = history4.history['val_accuracy']\n",
        "loss = history4.history['loss']\n",
        "val_loss = history4.history['val_loss']\n",
        "epochs = range(1, len(acc) + 1)\n",
        "plt.figure(num=None, figsize=(8, 6), dpi=80, facecolor= 'w', edgecolor='k')\n",
        "plt.plot(epochs, acc, 'red', label='Training acc')\n",
        "plt.plot(epochs, val_acc, 'b', label='Validation acc') \n",
        "plt.title('Training and validation accuracy')\n",
        "plt.xlabel('Epochs', fontdict=None, labelpad=None)\n",
        "plt.ylabel('Acc value', fontdict=None, labelpad=None)\n",
        "plt.legend()\n",
        "plt.show()"
      ],
      "execution_count": null,
      "outputs": [
        {
          "output_type": "display_data",
          "data": {
            "image/png": "[encoded data removed]",
            "text/plain": [
              "<Figure size 640x480 with 1 Axes>"
            ]
          },
          "metadata": {
            "tags": []
          }
        }
      ]
    },
    {
      "cell_type": "markdown",
      "metadata": {
        "id": "rDA_DGacVRlE"
      },
      "source": [
        "##4.Usando la mejor de las redes hasta el momento, cambiar el algoritmo de entrenamiento (optimizador), probando el efecto de otros dos, diferentes al inicial. Tratar de dar una breve explicación de los cambios que aparezcan, en base a las diferencias en los algoritmos. ADAM,"
      ]
    },
    {
      "cell_type": "code",
      "metadata": {
        "id": "oTAdOnV4VTJx"
      },
      "source": [
        "model5 = keras.models.Sequential() \n",
        "\n",
        "model5.add(keras.layers.Flatten(input_shape=(28, 28))) #toma la matriz de entrada con formato [28,28] y la aplana a formato [784].\n",
        "\n",
        "model5.add(keras.layers.Dense(256, activation='relu')) #La primera capa contiene 64 neuronas con función de activación ReLu.\n",
        "model5.add(keras.layers.Dense(1028, activation='relu')) #La primera capa contiene 64 neuronas con función de activación ReLu.\n",
        "model5.add(keras.layers.Dense(512, activation='relu')) #La primera capa contiene 64 neuronas con función de activación ReLu.\n",
        "model5.add(keras.layers.Dense(64, activation='relu')) #La primera capa contiene 64 neuronas con función de activación ReLu.\n",
        "\n",
        "model5.add(keras.layers.Dense(10, activation='softmax')) #La última capa contiene 10 neuronas de salida, con función de activación softmax,"
      ],
      "execution_count": null,
      "outputs": []
    },
    {
      "cell_type": "markdown",
      "metadata": {
        "id": "CuhAsw-XvHUP"
      },
      "source": [
        "**Se usa ADAM como optimizador**"
      ]
    },
    {
      "cell_type": "code",
      "metadata": {
        "id": "mZSPgxezVl41"
      },
      "source": [
        "#Se construye el modelo\n",
        "adam = keras.optimizers.Adam(lr=0.01)\n",
        "model5.compile(optimizer=adam,\n",
        "loss='categorical_crossentropy',\n",
        "metrics=['accuracy'])"
      ],
      "execution_count": null,
      "outputs": []
    },
    {
      "cell_type": "code",
      "metadata": {
        "id": "zZiiov9eVq2e",
        "colab": {
          "base_uri": "https://localhost:8080/"
        },
        "outputId": "070ba34d-a91b-4ed2-a4df-7c7b9c0d187d"
      },
      "source": [
        "print(model5.summary())"
      ],
      "execution_count": null,
      "outputs": [
        {
          "output_type": "stream",
          "text": [
            "Model: \"sequential_2\"\n",
            "_________________________________________________________________\n",
            "Layer (type)                 Output Shape              Param #   \n",
            "=================================================================\n",
            "flatten_2 (Flatten)          (None, 784)               0         \n",
            "_________________________________________________________________\n",
            "dense_10 (Dense)             (None, 256)               200960    \n",
            "_________________________________________________________________\n",
            "dense_11 (Dense)             (None, 1028)              264196    \n",
            "_________________________________________________________________\n",
            "dense_12 (Dense)             (None, 512)               526848    \n",
            "_________________________________________________________________\n",
            "dense_13 (Dense)             (None, 64)                32832     \n",
            "_________________________________________________________________\n",
            "dense_14 (Dense)             (None, 10)                650       \n",
            "=================================================================\n",
            "Total params: 1,025,486\n",
            "Trainable params: 1,025,486\n",
            "Non-trainable params: 0\n",
            "_________________________________________________________________\n",
            "None\n"
          ],
          "name": "stdout"
        }
      ]
    },
    {
      "cell_type": "code",
      "metadata": {
        "id": "efOZRddlVuQ0",
        "colab": {
          "base_uri": "https://localhost:8080/"
        },
        "outputId": "dc386029-b6ae-4e04-a69b-49818b1d5a87"
      },
      "source": [
        "history5=model5.fit(x_train, y_train_onehot,\n",
        "epochs=8,\n",
        "validation_data=(x_test, y_test_onehot))"
      ],
      "execution_count": null,
      "outputs": [
        {
          "output_type": "stream",
          "text": [
            "Epoch 1/8\n",
            "1875/1875 [==============================] - 25s 13ms/step - loss: 0.9498 - accuracy: 0.6782 - val_loss: 0.5986 - val_accuracy: 0.7950\n",
            "Epoch 2/8\n",
            "1875/1875 [==============================] - 24s 13ms/step - loss: 0.5490 - accuracy: 0.8117 - val_loss: 0.5868 - val_accuracy: 0.8135\n",
            "Epoch 3/8\n",
            "1875/1875 [==============================] - 25s 13ms/step - loss: 0.5036 - accuracy: 0.8260 - val_loss: 0.4917 - val_accuracy: 0.8304\n",
            "Epoch 4/8\n",
            "1875/1875 [==============================] - 24s 13ms/step - loss: 0.4822 - accuracy: 0.8347 - val_loss: 0.5044 - val_accuracy: 0.8242\n",
            "Epoch 5/8\n",
            "1875/1875 [==============================] - 25s 13ms/step - loss: 0.4866 - accuracy: 0.8367 - val_loss: 0.5682 - val_accuracy: 0.8041\n",
            "Epoch 6/8\n",
            "1875/1875 [==============================] - 25s 13ms/step - loss: 0.4644 - accuracy: 0.8417 - val_loss: 0.5331 - val_accuracy: 0.8203\n",
            "Epoch 7/8\n",
            "1875/1875 [==============================] - 25s 13ms/step - loss: 0.4640 - accuracy: 0.8414 - val_loss: 0.4832 - val_accuracy: 0.8355\n",
            "Epoch 8/8\n",
            "1875/1875 [==============================] - 25s 13ms/step - loss: 0.4474 - accuracy: 0.8501 - val_loss: 0.5041 - val_accuracy: 0.8322\n"
          ],
          "name": "stdout"
        }
      ]
    },
    {
      "cell_type": "code",
      "metadata": {
        "id": "KoAXan6VVxOb",
        "colab": {
          "base_uri": "https://localhost:8080/"
        },
        "outputId": "4c7fbd1f-7231-4f12-fa5e-6f50bc8ba034"
      },
      "source": [
        "test_loss, test_acc = model5.evaluate(x_test, y_test_onehot, verbose=2)\n",
        "\n",
        "print('\\nTest accuracy:', test_acc)"
      ],
      "execution_count": null,
      "outputs": [
        {
          "output_type": "stream",
          "text": [
            "313/313 - 1s - loss: 0.5041 - accuracy: 0.8322\n",
            "\n",
            "Test accuracy: 0.8321999907493591\n"
          ],
          "name": "stdout"
        }
      ]
    },
    {
      "cell_type": "code",
      "metadata": {
        "id": "ACk-uP7WVy-B",
        "colab": {
          "base_uri": "https://localhost:8080/",
          "height": 444
        },
        "outputId": "e4576351-69ca-4817-ee27-17e81228f9e4"
      },
      "source": [
        "acc = history5.history['accuracy']\n",
        "val_acc = history5.history['val_accuracy']\n",
        "loss = history5.history['loss']\n",
        "val_loss = history5.history['val_loss']\n",
        "epochs = range(1, len(acc) + 1)\n",
        "plt.figure(num=None, figsize=(8, 6), dpi=80, facecolor= 'w', edgecolor='k')\n",
        "plt.plot(epochs, acc, 'red', label='Training acc')\n",
        "plt.plot(epochs, val_acc, 'b', label='Validation acc') \n",
        "plt.title('Precisión de entrenamiento y validación con ADAM')\n",
        "plt.xlabel('Epochs', fontdict=None, labelpad=None)\n",
        "plt.ylabel('Acc value', fontdict=None, labelpad=None)\n",
        "plt.legend()\n",
        "plt.show()"
      ],
      "execution_count": null,
      "outputs": [
        {
          "output_type": "display_data",
          "data": {
            "image/png": "[encoded data removed]",
            "text/plain": [
              "<Figure size 640x480 with 1 Axes>"
            ]
          },
          "metadata": {
            "tags": []
          }
        }
      ]
    },
    {
      "cell_type": "markdown",
      "metadata": {
        "id": "8AtP2Pr4AHJL"
      },
      "source": [
        "**Se usa Adamgrad como optimizador** "
      ]
    },
    {
      "cell_type": "code",
      "metadata": {
        "id": "sfo9q3ugaHpF"
      },
      "source": [
        "model6 = keras.models.Sequential() \n",
        "\n",
        "model6.add(keras.layers.Flatten(input_shape=(28, 28))) #toma la matriz de entrada con formato [28,28] y la aplana a formato [784].\n",
        "\n",
        "model6.add(keras.layers.Dense(256, activation='relu')) #La primera capa contiene 64 neuronas con función de activación ReLu.\n",
        "model6.add(keras.layers.Dense(1028, activation='relu')) #La primera capa contiene 64 neuronas con función de activación ReLu.\n",
        "model6.add(keras.layers.Dense(512, activation='relu')) #La primera capa contiene 64 neuronas con función de activación ReLu.\n",
        "model6.add(keras.layers.Dense(64, activation='relu')) #La primera capa contiene 64 neuronas con función de activación ReLu.\n",
        "\n",
        "model6.add(keras.layers.Dense(10, activation='softmax')) #La última capa contiene 10 neuronas de salida, con función de activación softmax,"
      ],
      "execution_count": null,
      "outputs": []
    },
    {
      "cell_type": "code",
      "metadata": {
        "id": "WHn0QleOGNUx"
      },
      "source": [
        "#ADAMGRAD\n",
        "adamgrad=keras.optimizers.Adagrad(lr=0.01, epsilon=None, decay=0.0)\n",
        "model6.compile(optimizer=adamgrad,\n",
        "loss='categorical_crossentropy',\n",
        "metrics=['accuracy'])"
      ],
      "execution_count": null,
      "outputs": []
    },
    {
      "cell_type": "code",
      "metadata": {
        "colab": {
          "base_uri": "https://localhost:8080/"
        },
        "id": "WmGqGrdNHG_A",
        "outputId": "835eb0ff-0202-42a5-a1e8-aaabc8d3fe76"
      },
      "source": [
        "print(model6.summary())"
      ],
      "execution_count": null,
      "outputs": [
        {
          "output_type": "stream",
          "text": [
            "Model: \"sequential_5\"\n",
            "_________________________________________________________________\n",
            "Layer (type)                 Output Shape              Param #   \n",
            "=================================================================\n",
            "flatten_5 (Flatten)          (None, 784)               0         \n",
            "_________________________________________________________________\n",
            "dense_19 (Dense)             (None, 256)               200960    \n",
            "_________________________________________________________________\n",
            "dense_20 (Dense)             (None, 1028)              264196    \n",
            "_________________________________________________________________\n",
            "dense_21 (Dense)             (None, 512)               526848    \n",
            "_________________________________________________________________\n",
            "dense_22 (Dense)             (None, 64)                32832     \n",
            "_________________________________________________________________\n",
            "dense_23 (Dense)             (None, 10)                650       \n",
            "=================================================================\n",
            "Total params: 1,025,486\n",
            "Trainable params: 1,025,486\n",
            "Non-trainable params: 0\n",
            "_________________________________________________________________\n",
            "None\n"
          ],
          "name": "stdout"
        }
      ]
    },
    {
      "cell_type": "code",
      "metadata": {
        "id": "WRKFRH6VV0vC",
        "colab": {
          "base_uri": "https://localhost:8080/"
        },
        "outputId": "397c8f81-cb11-4359-f0b1-d21c6e12aaf1"
      },
      "source": [
        "history6=model6.fit(x_train, y_train_onehot,\n",
        "epochs=8,\n",
        "validation_data=(x_test, y_test_onehot))"
      ],
      "execution_count": null,
      "outputs": [
        {
          "output_type": "stream",
          "text": [
            "Epoch 1/8\n",
            "1875/1875 [==============================] - 24s 13ms/step - loss: 0.7922 - accuracy: 0.7264 - val_loss: 0.4648 - val_accuracy: 0.8305\n",
            "Epoch 2/8\n",
            "1875/1875 [==============================] - 24s 13ms/step - loss: 0.4115 - accuracy: 0.8502 - val_loss: 0.4031 - val_accuracy: 0.8555\n",
            "Epoch 3/8\n",
            "1875/1875 [==============================] - 24s 13ms/step - loss: 0.3606 - accuracy: 0.8676 - val_loss: 0.3906 - val_accuracy: 0.8613\n",
            "Epoch 4/8\n",
            "1875/1875 [==============================] - 23s 12ms/step - loss: 0.3290 - accuracy: 0.8793 - val_loss: 0.3635 - val_accuracy: 0.8706\n",
            "Epoch 5/8\n",
            "1875/1875 [==============================] - 23s 12ms/step - loss: 0.3046 - accuracy: 0.8889 - val_loss: 0.3541 - val_accuracy: 0.8729\n",
            "Epoch 6/8\n",
            "1875/1875 [==============================] - 24s 13ms/step - loss: 0.2903 - accuracy: 0.8951 - val_loss: 0.3374 - val_accuracy: 0.8751\n",
            "Epoch 7/8\n",
            "1875/1875 [==============================] - 23s 12ms/step - loss: 0.2784 - accuracy: 0.8986 - val_loss: 0.3387 - val_accuracy: 0.8803\n",
            "Epoch 8/8\n",
            "1875/1875 [==============================] - 24s 13ms/step - loss: 0.2594 - accuracy: 0.9026 - val_loss: 0.3312 - val_accuracy: 0.8849\n"
          ],
          "name": "stdout"
        }
      ]
    },
    {
      "cell_type": "code",
      "metadata": {
        "id": "K2tSMheWWKY_",
        "colab": {
          "base_uri": "https://localhost:8080/"
        },
        "outputId": "a3eea717-b182-417d-923f-0b17b8173c2c"
      },
      "source": [
        "test_loss, test_acc = model6.evaluate(x_test, y_test_onehot, verbose=2)"
      ],
      "execution_count": null,
      "outputs": [
        {
          "output_type": "stream",
          "text": [
            "313/313 - 1s - loss: 0.3312 - accuracy: 0.8849\n"
          ],
          "name": "stdout"
        }
      ]
    },
    {
      "cell_type": "code",
      "metadata": {
        "id": "DBsjjefWWM14",
        "colab": {
          "base_uri": "https://localhost:8080/",
          "height": 462
        },
        "outputId": "e95f84d6-a4c7-4819-f237-4ddeff600b3b"
      },
      "source": [
        "acc = history6.history['accuracy']\n",
        "val_acc = history6.history['val_accuracy']\n",
        "loss = history6.history['loss']\n",
        "val_loss = history6.history['val_loss']\n",
        "epochs = range(1, len(acc) + 1)\n",
        "plt.figure(num=None, figsize=(8, 6), dpi=80, facecolor= 'w', edgecolor='k')\n",
        "plt.plot(epochs, acc, 'red', label='Training acc')\n",
        "plt.plot(epochs, val_acc, 'b', label='Validation acc') \n",
        "plt.title('Precicisión para entrenamiento y validación con ADAMGRAD')\n",
        "plt.xlabel('Epochs', fontdict=None, labelpad=None)\n",
        "plt.ylabel('Acc value', fontdict=None, labelpad=None)\n",
        "plt.legend()"
      ],
      "execution_count": null,
      "outputs": [
        {
          "output_type": "execute_result",
          "data": {
            "text/plain": [
              "<matplotlib.legend.Legend at 0x7fb0aa4b07d0>"
            ]
          },
          "metadata": {
            "tags": []
          },
          "execution_count": 51
        },
        {
          "output_type": "display_data",
          "data": {
            "image/png": "[encoded data removed]",
            "text/plain": [
              "<Figure size 640x480 with 1 Axes>"
            ]
          },
          "metadata": {
            "tags": []
          }
        }
      ]
    }
  ]
}